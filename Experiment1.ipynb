{
 "cells": [
  {
   "cell_type": "markdown",
   "metadata": {},
   "source": [
    "# Aim:To study Datatyes,InputOutput,Control Structures in Python"
   ]
  },
  {
   "cell_type": "markdown",
   "metadata": {},
   "source": [
    "#### Theory:\n",
    "The `print()` function prints the specified message to the screen, or other standard output device.The message can be a string, or any other object, the object will be converted into a string before written to the screen.\n",
    "##### Syntax:\n",
    "`print(object(s), sep=separator, end=end, file=file, flush=flush)`\n",
    "\n",
    "| Parameter      | Description                                                                                 |\n",
    "| :--- | :--- | \n",
    "| object(s)\t     | Any object, and as many as you like. Will be converted to string before printed             |\n",
    "| sep='separator'| Optional. Specify how to separate the objects, if there is more than one. Default is ' '    |\n",
    "| end='end'\tOptional.| Specify what to print at the end. Default is '\\n' (line feed) |\n",
    "| file\tOptional.| An object with a write method. Default is sys.stdout                                        |\n",
    "| flush\tOptional.| A Boolean, specifying if the output is flushed (True) or buffered (False). Default is False |\n",
    "    "
   ]
  },
  {
   "cell_type": "markdown",
   "metadata": {},
   "source": [
    "Question 1: Write a Python program to print the following string in a specific format Twinkle, twinkle,little star, \"How I wonder what you are! \" Up above the world so high, Like a diamond in the sky.Twinkle, ' twinkle ', little star, How I wonder what you are Using only one print() function."
   ]
  },
  {
   "cell_type": "code",
   "execution_count": 2,
   "metadata": {},
   "outputs": [
    {
     "name": "stdout",
     "output_type": "stream",
     "text": [
      "Twinkle, twinkle, little star,\n",
      "   \"How I wonder what you are! \"\n",
      "       Up above the world so high,\n",
      "       Like a diamond in the sky.\n",
      "Twinkle, ' twinkle ', little star,\n",
      "   How I wonder what you are\n"
     ]
    }
   ],
   "source": [
    " print('''Twinkle, twinkle, little star,\n",
    "    \"How I wonder what you are! \"\n",
    "        Up above the world so high,\n",
    "        Like a diamond in the sky.\n",
    "Twinkle, ' twinkle ', little star,\n",
    "    How I wonder what you are''')"
   ]
  },
  {
   "cell_type": "markdown",
   "metadata": {},
   "source": [
    "#### Theory:\n",
    "The `input()` method reads a line from input, converts into a string and returns it.\n",
    "\n",
    "The `format()` method formats the specified value(s) and insert them inside the string's placeholder.\n",
    "The placeholder is defined using curly brackets: {}. Read more about the placeholders in the Placeholder section below.\n",
    "The format() method returns the formatted string.\n",
    "##### Syntax:\n",
    "`input(prompt)`\n",
    "\n",
    "`string.format(value1, value2...)`\n",
    "\n",
    "| Parameter | Description |\n",
    "|:---|:---|\n",
    "| value1, value2... | Required. One or more values that should be formatted and inserted in the string. The values can be A number specifying the position of the element you want to remove.The values are either a list of values separated by commas, a key=value list, or a combination of both.The values can be of any data type.|\n"
   ]
  },
  {
   "cell_type": "markdown",
   "metadata": {},
   "source": [
    "Question 2: Program to show output formatting take two values and display them using single printfunction using str.format() operator % operator"
   ]
  },
  {
   "cell_type": "code",
   "execution_count": 2,
   "metadata": {},
   "outputs": [
    {
     "name": "stdout",
     "output_type": "stream",
     "text": [
      "12\n",
      "13\n",
      "using format to print 12 and 13\n"
     ]
    }
   ],
   "source": [
    "a=input()\n",
    "b=input()\n",
    "s='using format to print {0} and {1}'.format(a,b)\n",
    "print(s)"
   ]
  },
  {
   "cell_type": "markdown",
   "metadata": {},
   "source": [
    "#### Theory:\n",
    "The `int()` function converts the specified value into an integer number.The `int()` function returns an integer object constructed from a number or string x, or return 0 if no arguments are given.\n",
    "\n",
    "##### Syntax:\n",
    "`int(x, base)`\n",
    "\n",
    "<table class=\"table table-bordered\">\n",
    "<tbody>\n",
    "<tr>\n",
    "<th>Name</th>\n",
    "<th> Description</th>\n",
    "<th>Required<br>\n",
    "Optional</th>\n",
    "</tr>\n",
    "<tr>\n",
    "<td>x</td>\n",
    "<td>A number or string to be converted to integer object.\n",
    "Default argument is zero.</td>\n",
    "<td>Required</td>\n",
    "</tr>\n",
    "<tr>\n",
    "<td>base</td>\n",
    "<td>Number format. Default value: 10.</td>\n",
    "<td>Optional</td>\n",
    "</tr>\n",
    "</tbody></table>\n",
    "\n"
   ]
  },
  {
   "cell_type": "markdown",
   "metadata": {},
   "source": [
    "Question 3: Program to find leap year using nested if"
   ]
  },
  {
   "cell_type": "code",
   "execution_count": 4,
   "metadata": {},
   "outputs": [
    {
     "name": "stdout",
     "output_type": "stream",
     "text": [
      "Enter year:1000\n",
      "Not a Leap year\n"
     ]
    }
   ],
   "source": [
    "y=int(input('Enter year:'))\n",
    "\n",
    "if y%4==0:\n",
    "    if y%100==0 and y%400!=0:\n",
    "        print('Not a Leap year')\n",
    "    else:\n",
    "        print('Leap year!')\n",
    "else:\n",
    "    print('Not a Leap year')\n",
    "        \n"
   ]
  },
  {
   "cell_type": "markdown",
   "metadata": {},
   "source": [
    "#### Theory:\n",
    "A `for` loop is used for iterating over a sequence (that is either a list, a tuple, a dictionary, a set, or a string).\n",
    "This is less like the for keyword in other programming languages, and works more like an iterator method as found in other object-orientated programming languages.With the for loop we can execute a set of statements, once for each item in a list, tuple, set etc.\n",
    "\n",
    "With the `while` loop we can execute a set of statements as long as a condition is true.\n",
    "\n",
    "The `range()` function returns a sequence of numbers, starting from 0 by default, and increments by 1 (by default), and stops \n",
    "before a specified number.\n",
    "\n",
    "The `in` operator is a membership operator.It returns True if a sequence with the specified value is present in the object.\n",
    "eg. x `in` y\n",
    "\n",
    "##### Syntax:\n",
    "\n",
    "``` \n",
    "for x in sequence:\n",
    "#statements  \n",
    "```\n",
    "\n",
    "``` \n",
    "while condition:\n",
    "#statements  \n",
    "``` \n",
    "\n",
    "\n",
    "` range(start, stop, step) `\n",
    "\n",
    "<table class=\"w3-table-all notranslate\"> \n",
    "  <tbody><tr>\n",
    "    <th style=\"width:20%\">Parameter</th>\n",
    "    <th>Description</th>  </tr>  \n",
    "    <tr>\n",
    "    <td><em>start</em></td>\n",
    "    <td>Optional. An integer number specifying at which position to start. \n",
    "    Default is 0</td>\n",
    "    </tr>\n",
    "    <tr>\n",
    "    <td><em>stop</em></td>\n",
    "    <td>Required. An integer number specifying at which position to stop (not \n",
    "    included).</td>\n",
    "    </tr>\n",
    "    <tr>\n",
    "    <td><em>step</em></td>\n",
    "    <td>Optional. An integer number specifying the incrementation. Default is 1</td>\n",
    "    </tr>\n",
    "</tbody></table>\n"
   ]
  },
  {
   "cell_type": "markdown",
   "metadata": {},
   "source": [
    "Question 4: Program to print all armstrong number in range 100 to 999."
   ]
  },
  {
   "cell_type": "code",
   "execution_count": 13,
   "metadata": {},
   "outputs": [
    {
     "name": "stdout",
     "output_type": "stream",
     "text": [
      "153\n",
      "370\n",
      "371\n",
      "407\n"
     ]
    }
   ],
   "source": [
    " for i in range(100,1000):\n",
    "        s=0\n",
    "        org=i\n",
    "        org2=i\n",
    "        while org>0:\n",
    "            s+=(org%10)**3\n",
    "            org=org//10\n",
    "            \n",
    "        if(s==org2):\n",
    "            print(org2)\n",
    "       "
   ]
  },
  {
   "cell_type": "markdown",
   "metadata": {},
   "source": [
    "Question 5: Program to find fibonacci series of n terms."
   ]
  },
  {
   "cell_type": "code",
   "execution_count": 17,
   "metadata": {},
   "outputs": [
    {
     "name": "stdout",
     "output_type": "stream",
     "text": [
      "10\n",
      "0 1 1 2 3 5 8 13 21 34 "
     ]
    }
   ],
   "source": [
    "n=int(input())\n",
    "a=0\n",
    "b=1\n",
    "\n",
    "print(a,b,end=' ')\n",
    "for i in range(3,n+1):\n",
    "    s=a+b\n",
    "    print(s,end=' ')\n",
    "    a=b\n",
    "    b=s"
   ]
  },
  {
   "cell_type": "markdown",
   "metadata": {},
   "source": [
    "Question 6:\n",
    "(Pattern programs)\n",
    "\n",
    "i)\n",
    "<pre>\n",
    "A\n",
    "BB\n",
    "CCC\n",
    "DDDD\n",
    "EEEEE\n",
    "</pre>"
   ]
  },
  {
   "cell_type": "code",
   "execution_count": 29,
   "metadata": {},
   "outputs": [
    {
     "name": "stdout",
     "output_type": "stream",
     "text": [
      "5\n",
      "A\n",
      "BB\n",
      "CCC\n",
      "DDDD\n",
      "EEEEE\n"
     ]
    }
   ],
   "source": [
    "n=int(input())\n",
    "c='A'\n",
    "for i in range(1,n+1):\n",
    "    print(i*f'{c}')\n",
    "    c=chr(ord(c)+1)\n",
    "        \n",
    "        \n",
    "    \n",
    "    "
   ]
  },
  {
   "cell_type": "markdown",
   "metadata": {},
   "source": [
    "ii)\n",
    "<pre>\n",
    " *****\n",
    "  ****\n",
    "   ***\n",
    "    **\n",
    "     *\n",
    "     </pre>"
   ]
  },
  {
   "cell_type": "code",
   "execution_count": 6,
   "metadata": {},
   "outputs": [
    {
     "name": "stdout",
     "output_type": "stream",
     "text": [
      "5\n",
      " *****\n",
      "  ****\n",
      "   ***\n",
      "    **\n",
      "     *\n"
     ]
    }
   ],
   "source": [
    "n=int(input())\n",
    "for i in range(1,n+1):\n",
    "    print(i*f' ',end='')\n",
    "    print(n*f'*')\n",
    "    n-=1\n",
    "    "
   ]
  },
  {
   "cell_type": "markdown",
   "metadata": {},
   "source": [
    "iii)<pre>\n",
    "     1\n",
    "    121\n",
    "   12321\n",
    "  1234321\n",
    " 123454321\n",
    " </pre>"
   ]
  },
  {
   "cell_type": "code",
   "execution_count": 37,
   "metadata": {},
   "outputs": [
    {
     "name": "stdout",
     "output_type": "stream",
     "text": [
      "5\n",
      "     1\n",
      "    121\n",
      "   12321\n",
      "  1234321\n",
      " 123454321\n"
     ]
    }
   ],
   "source": [
    "n=int(input())\n",
    "\n",
    "for i in range(1,n+1):\n",
    "    for j in range(n+1,i,-1):\n",
    "        print(' ',end='')\n",
    "    for j in range(1,i+1):\n",
    "        print(j,end='')\n",
    "    for j in range(i,1,-1):\n",
    "        print(j-1,end='')\n",
    "    print()\n",
    "    "
   ]
  },
  {
   "cell_type": "raw",
   "metadata": {},
   "source": [
    "iv)\n",
    "    * \n",
    "   * * \n",
    "  * * * \n",
    " * * * * \n",
    "* * * * *"
   ]
  },
  {
   "cell_type": "code",
   "execution_count": 1,
   "metadata": {},
   "outputs": [
    {
     "name": "stdout",
     "output_type": "stream",
     "text": [
      "5\n",
      "     * \n",
      "    * * \n",
      "   * * * \n",
      "  * * * * \n",
      " * * * * * \n"
     ]
    }
   ],
   "source": [
    "n=int(input())\n",
    "\n",
    "for i in range(1,n+1):\n",
    "    for j in range(n+1,i,-1):\n",
    "        print(' ',end='')\n",
    "    for j in range(1,i+1):\n",
    "        print('*',end=' ')\n",
    "    print()"
   ]
  },
  {
   "cell_type": "code",
   "execution_count": null,
   "metadata": {},
   "outputs": [],
   "source": []
  }
 ],
 "metadata": {
  "kernelspec": {
   "display_name": "Python 3",
   "language": "python",
   "name": "python3"
  },
  "language_info": {
   "codemirror_mode": {
    "name": "ipython",
    "version": 3
   },
   "file_extension": ".py",
   "mimetype": "text/x-python",
   "name": "python",
   "nbconvert_exporter": "python",
   "pygments_lexer": "ipython3",
   "version": "3.8.3"
  }
 },
 "nbformat": 4,
 "nbformat_minor": 4
}
