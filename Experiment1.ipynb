{
 "cells": [
  {
   "cell_type": "code",
   "execution_count": 1,
   "metadata": {},
   "outputs": [
    {
     "name": "stdout",
     "output_type": "stream",
     "text": [
      "Twinkle, twinkle, little star,\n",
      "    \"How I wonder what you are! \"\n",
      "        Up above the world so high,\n",
      "        Like a diamond in the sky.\n",
      "Twinkle, ' twinkle ', little star,\n",
      "    How I wonder what you are\n"
     ]
    }
   ],
   "source": [
    "print('''Twinkle, twinkle, little star,\n",
    "    \"How I wonder what you are! \"\n",
    "        Up above the world so high,\n",
    "        Like a diamond in the sky.\n",
    "Twinkle, ' twinkle ', little star,\n",
    "    How I wonder what you are''')"
   ]
  },
  {
   "cell_type": "code",
   "execution_count": 2,
   "metadata": {},
   "outputs": [
    {
     "name": "stdout",
     "output_type": "stream",
     "text": [
      "12\n",
      "13\n",
      "using format to print 12 and 13\n"
     ]
    }
   ],
   "source": [
    "a=input()\n",
    "b=input()\n",
    "s='using format to print {0} and {1}'.format(a,b)\n",
    "print(s)"
   ]
  },
  {
   "cell_type": "code",
   "execution_count": 4,
   "metadata": {},
   "outputs": [
    {
     "name": "stdout",
     "output_type": "stream",
     "text": [
      "Enter year:1000\n",
      "Not a Leap year\n"
     ]
    }
   ],
   "source": [
    "y=int(input('Enter year:'))\n",
    "\n",
    "if y%4==0:\n",
    "    if y%100==0 and y%400!=0:\n",
    "        print('Not a Leap year')\n",
    "    else:\n",
    "        print('Leap year!')\n",
    "else:\n",
    "    print('Not a Leap year')\n",
    "        \n"
   ]
  },
  {
   "cell_type": "code",
   "execution_count": 13,
   "metadata": {},
   "outputs": [
    {
     "name": "stdout",
     "output_type": "stream",
     "text": [
      "153\n",
      "370\n",
      "371\n",
      "407\n"
     ]
    }
   ],
   "source": [
    " for i in range(100,1000):\n",
    "        s=0\n",
    "        org=i\n",
    "        org2=i\n",
    "        while org>0:\n",
    "            s+=(org%10)**3\n",
    "            org=org//10\n",
    "            \n",
    "        if(s==org2):\n",
    "            print(org2)\n",
    "       "
   ]
  },
  {
   "cell_type": "code",
   "execution_count": 17,
   "metadata": {},
   "outputs": [
    {
     "name": "stdout",
     "output_type": "stream",
     "text": [
      "10\n",
      "0 1 1 2 3 5 8 13 21 34 "
     ]
    }
   ],
   "source": [
    "n=int(input())\n",
    "a=0\n",
    "b=1\n",
    "\n",
    "print(a,b,end=' ')\n",
    "for i in range(3,n+1):\n",
    "    s=a+b\n",
    "    print(s,end=' ')\n",
    "    a=b\n",
    "    b=s"
   ]
  },
  {
   "cell_type": "code",
   "execution_count": 29,
   "metadata": {},
   "outputs": [
    {
     "name": "stdout",
     "output_type": "stream",
     "text": [
      "5\n",
      "A\n",
      "BB\n",
      "CCC\n",
      "DDDD\n",
      "EEEEE\n"
     ]
    }
   ],
   "source": [
    "n=int(input())\n",
    "c='A'\n",
    "for i in range(1,n+1):\n",
    "    print(i*f'{c}')\n",
    "    c=chr(ord(c)+1)\n",
    "        \n",
    "        \n",
    "    \n",
    "    "
   ]
  },
  {
   "cell_type": "code",
   "execution_count": 28,
   "metadata": {},
   "outputs": [
    {
     "name": "stdout",
     "output_type": "stream",
     "text": [
      "5\n",
      " *****\n",
      "  ****\n",
      "   ***\n",
      "    **\n",
      "     *\n"
     ]
    }
   ],
   "source": [
    "n=int(input())\n",
    "for i in range(1,n+1):\n",
    "    print(i*f' ',end='')\n",
    "    print(n*f'*')\n",
    "    n-=1\n",
    "    "
   ]
  },
  {
   "cell_type": "code",
   "execution_count": 37,
   "metadata": {},
   "outputs": [
    {
     "name": "stdout",
     "output_type": "stream",
     "text": [
      "5\n",
      "     1\n",
      "    121\n",
      "   12321\n",
      "  1234321\n",
      " 123454321\n"
     ]
    }
   ],
   "source": [
    "n=int(input())\n",
    "\n",
    "for i in range(1,n+1):\n",
    "    for j in range(n+1,i,-1):\n",
    "        print(' ',end='')\n",
    "    for j in range(1,i+1):\n",
    "        print(j,end='')\n",
    "    for j in range(i,1,-1):\n",
    "        print(j-1,end='')\n",
    "    print()\n",
    "    "
   ]
  },
  {
   "cell_type": "code",
   "execution_count": 38,
   "metadata": {},
   "outputs": [
    {
     "name": "stdout",
     "output_type": "stream",
     "text": [
      "5\n",
      "     * \n",
      "    * * \n",
      "   * * * \n",
      "  * * * * \n",
      " * * * * * \n"
     ]
    }
   ],
   "source": [
    "n=int(input())\n",
    "\n",
    "for i in range(1,n+1):\n",
    "    for j in range(n+1,i,-1):\n",
    "        print(' ',end='')\n",
    "    for j in range(1,i+1):\n",
    "        print('*',end=' ')\n",
    "    print()"
   ]
  },
  {
   "cell_type": "code",
   "execution_count": null,
   "metadata": {},
   "outputs": [],
   "source": []
  }
 ],
 "metadata": {
  "kernelspec": {
   "display_name": "Python 3",
   "language": "python",
   "name": "python3"
  },
  "language_info": {
   "codemirror_mode": {
    "name": "ipython",
    "version": 3
   },
   "file_extension": ".py",
   "mimetype": "text/x-python",
   "name": "python",
   "nbconvert_exporter": "python",
   "pygments_lexer": "ipython3",
   "version": "3.8.3"
  }
 },
 "nbformat": 4,
 "nbformat_minor": 4
}
