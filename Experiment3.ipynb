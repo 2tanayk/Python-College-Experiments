{
 "cells": [
  {
   "cell_type": "code",
   "execution_count": 5,
   "metadata": {},
   "outputs": [
    {
     "name": "stdout",
     "output_type": "stream",
     "text": [
      "Enter a no.5\n",
      "Not a perfect no.\n"
     ]
    }
   ],
   "source": [
    "import math as m\n",
    "\n",
    "n=int(input(\"Enter a no.\"))\n",
    "sum=0\n",
    "for i in range(1,m.ceil(n)):\n",
    "    if n%i==0:\n",
    "        sum=sum+i\n",
    "if(sum==n):\n",
    "    print(\"It is a perfect no.\")\n",
    "else:\n",
    "    print(\"Not a perfect no.\")\n",
    "        "
   ]
  },
  {
   "cell_type": "code",
   "execution_count": 7,
   "metadata": {},
   "outputs": [
    {
     "name": "stdout",
     "output_type": "stream",
     "text": [
      "Enter a sentence: Yo mama\n",
      "Its not a pangram\n"
     ]
    }
   ],
   "source": [
    "import string as s\n",
    "\n",
    "st=input(\"Enter a sentence: \")\n",
    "\n",
    "\n",
    "if(set(st)>=set(s.ascii_lowercase)):\n",
    "    print(\"Its a pangram\")\n",
    "else:\n",
    "    print(\"Its not a pangram\")\n",
    "    \n"
   ]
  },
  {
   "cell_type": "code",
   "execution_count": null,
   "metadata": {},
   "outputs": [
    {
     "name": "stdout",
     "output_type": "stream",
     "text": [
      " Enter your choice:\n",
      "     1)Sum\n",
      "     2)Difference\n",
      "     3)Product\n",
      "     4)Quotient\n",
      "     5)Remainder\n",
      "     6)Exit\n",
      "1\n",
      "Enter numbers to be added:1 2 3\n",
      "6\n",
      " Enter your choice:\n",
      "     1)Sum\n",
      "     2)Difference\n",
      "     3)Product\n",
      "     4)Quotient\n",
      "     5)Remainder\n",
      "     6)Exit\n",
      "3\n",
      "Enter numbers to be multiplied:1 2 3\n",
      "6\n",
      " Enter your choice:\n",
      "     1)Sum\n",
      "     2)Difference\n",
      "     3)Product\n",
      "     4)Quotient\n",
      "     5)Remainder\n",
      "     6)Exit\n",
      "3\n",
      "Enter numbers to be multiplied:1 2 3 4 5\n",
      "120\n",
      " Enter your choice:\n",
      "     1)Sum\n",
      "     2)Difference\n",
      "     3)Product\n",
      "     4)Quotient\n",
      "     5)Remainder\n",
      "     6)Exit\n",
      "6\n"
     ]
    }
   ],
   "source": [
    "import math\n",
    "\n",
    "\n",
    "def add(*args):\n",
    "    print(sum(args))\n",
    "    \n",
    "def substract(*args):\n",
    "    print(args[0]-args[1])\n",
    "\n",
    "def product(*args):\n",
    "    print(math.prod(args))\n",
    "    \n",
    "def quotient(*args):\n",
    "    print(args[0]/args[1])\n",
    "    \n",
    "def remainder(*args):\n",
    "    print(args[0]%args[1])\n",
    "\n",
    "\n",
    "while(True):\n",
    "    print(''' Enter your choice:\n",
    "     1)Sum\n",
    "     2)Difference\n",
    "     3)Product\n",
    "     4)Quotient\n",
    "     5)Remainder\n",
    "     6)Exit''')\n",
    "\n",
    "    choice=int(input())\n",
    "\n",
    "    if choice==1:\n",
    "        l=[int(x) for x in input(\"Enter numbers to be added:\").strip().split()]\n",
    "        add(*l)\n",
    "    elif choice==2:\n",
    "        l=[int(x) for x in input(\"Enter 2 numbers:\").strip().split()]\n",
    "        substract(*l)\n",
    "    elif choice==3:\n",
    "        l=[int(x) for x in input(\"Enter numbers to be multiplied:\").strip().split()]\n",
    "        product(*l)\n",
    "    elif choice==4:\n",
    "        l=[int(x) for x in input(\"Enter 2 nos.:\").strip().split()]\n",
    "        quotient(*l)\n",
    "    elif choice==5:\n",
    "        l=[int(x) for x in input(\"Enter 2 nos.:\").strip().split()]\n",
    "        remainder(*l)\n",
    "    else:\n",
    "        break\n",
    "    \n",
    "    \n"
   ]
  },
  {
   "cell_type": "code",
   "execution_count": 11,
   "metadata": {},
   "outputs": [
    {
     "name": "stdout",
     "output_type": "stream",
     "text": [
      "10\n",
      "104\n",
      "10\n",
      "2000\n"
     ]
    }
   ],
   "source": [
    "def incr4_decorator(func):\n",
    "    def incr4(n):\n",
    "        return func(n)+4\n",
    "    return incr4\n",
    "\n",
    "def multiply2_decorator(func):\n",
    "    def multiply2(n):\n",
    "        return func(n)*2\n",
    "    return multiply2\n",
    "  \n",
    "@incr4_decorator\n",
    "def square(n):\n",
    "    return n**2\n",
    "\n",
    "@multiply2_decorator\n",
    "def cube(n):\n",
    "    return n**3\n",
    "\n",
    "print(square(int(input())))\n",
    "print(cube(int(input())))\n",
    "\n"
   ]
  },
  {
   "cell_type": "code",
   "execution_count": null,
   "metadata": {},
   "outputs": [],
   "source": [
    "\n",
    "while(True):\n",
    "    print(''' Enter your choice:\n",
    "     1)Summation\n",
    "     2)Product\n",
    "     3)Summation at even indices\n",
    "     4)add element\n",
    "     5)Exit''')\n",
    "\n",
    "    choice=int(input())\n",
    "\n",
    "    if choice==1:\n",
    "        l=[int(x) for x in input(\"Enter numbers to be added:\").strip().split()]\n",
    "        add(*l)\n",
    "    elif choice==2:\n",
    "        l=[int(x) for x in input(\"Enter 2 numbers:\").strip().split()]\n",
    "        substract(*l)\n",
    "    elif choice==3:\n",
    "        l=[int(x) for x in input(\"Enter numbers to be multiplied:\").strip().split()]\n",
    "        product(*l)\n",
    "    elif choice==4:\n",
    "        l=[int(x) for x in input(\"Enter 2 nos.:\").strip().split()]\n",
    "        quotient(*l)\n",
    "    elif choice==5:\n",
    "        l=[int(x) for x in input(\"Enter 2 nos.:\").strip().split()]\n",
    "        remainder(*l)\n",
    "    else:\n",
    "        break\n",
    "    \n",
    "    \n"
   ]
  }
 ],
 "metadata": {
  "kernelspec": {
   "display_name": "Python 3",
   "language": "python",
   "name": "python3"
  },
  "language_info": {
   "codemirror_mode": {
    "name": "ipython",
    "version": 3
   },
   "file_extension": ".py",
   "mimetype": "text/x-python",
   "name": "python",
   "nbconvert_exporter": "python",
   "pygments_lexer": "ipython3",
   "version": "3.8.3"
  }
 },
 "nbformat": 4,
 "nbformat_minor": 4
}
