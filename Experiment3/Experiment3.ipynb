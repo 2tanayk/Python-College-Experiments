{
 "cells": [
  {
   "cell_type": "raw",
   "metadata": {},
   "source": [
    "Theory:\n",
    "A function is a block of organized, reusable code that is used to perform a\n",
    "single, related action. Functions provide better modularity for your application\n",
    "and a high degree of code reusing.\n",
    "Defining a Function\n",
    "\n",
    "You can define functions to provide the required functionality. Here are simple rules to define a function in\n",
    "Python. Function blocks begin with the keyword def followed by the function name and parentheses ( ( ) ).\n",
    "\n",
    "Any input parameters or arguments should be placed within these parentheses. You can also define parameters\n",
    "inside these parentheses.\n",
    "\n",
    "The first statement of a function can be an optional statement - the documentation string of the function or\n",
    "docstring.\n",
    "\n",
    "The code block within every function starts with a colon (:) and is indented.\n",
    "\n",
    "The statement return [expression] exits a function, optionally passing back an expression to the caller. A return\n",
    "statement with no arguments is the same as return None.\n",
    "\n",
    "range() is a built-in function of Python. It is used when a user needs to perform\n",
    "an action for a specific number of times. The range() function is used to\n",
    "generate a sequence of numbers.\n",
    "\n",
    "Question 1:\n",
    "\n",
    "Write a Python function to check whether a number is perfect or\n",
    "not.(Note :The first perfect number is 6, because 1, 2, and 3 are its\n",
    "proper positive divisors, and 1 + 2 + 3 = 6. Equivalently, the\n",
    "number 6 is equal to half the sum of all its positive divisors: (1 +\n",
    "2+3+6)/2=6. The next perfect number is 28=1+2+4+7+\n",
    "14. This is followed by the perfect numbers 496 and 8128.)"
   ]
  },
  {
   "cell_type": "code",
   "execution_count": 5,
   "metadata": {},
   "outputs": [
    {
     "name": "stdout",
     "output_type": "stream",
     "text": [
      "Enter a no.5\n",
      "Not a perfect no.\n"
     ]
    }
   ],
   "source": [
    "import math as m\n",
    "\n",
    "n=int(input(\"Enter a no.\"))\n",
    "sum=0\n",
    "for i in range(1,m.ceil(n)):\n",
    "    if n%i==0:\n",
    "        sum=sum+i\n",
    "if(sum==n):\n",
    "    print(\"It is a perfect no.\")\n",
    "else:\n",
    "    print(\"Not a perfect no.\")\n",
    "        "
   ]
  },
  {
   "cell_type": "raw",
   "metadata": {},
   "source": [
    "Theory:\n",
    "A file is considered as a module in python. To use the module, you have to\n",
    "import it using the import keyword. The function or variables present inside the\n",
    "file can be used in another file by importing the module.\n",
    "\n",
    "A module is a file with python code. The code can be in the form of variables,\n",
    "functions, or class defined. The filename becomes the module name.\n",
    "\n",
    "A set is an unordered collection of items. Every set element is unique (no\n",
    "duplicates) and must be immutable (cannot be changed).\n",
    "\n",
    "However, a set itself is mutable. We can add or remove items from it.\n",
    "\n",
    "Sets can also be used to perform mathematical set operations like union,\n",
    "intersection, symmetric difference, etc.\n",
    "\n",
    "Question 2:\n",
    "\n",
    "Write a Python function to check whether a string is a pangram or\n",
    "not. (Note : Pangrams are words or sentences containing every\n",
    "letter of the alphabet at least once. For example :\"The quick\n",
    "brown fox jumps over the lazy dog\")\n"
   ]
  },
  {
   "cell_type": "code",
   "execution_count": 7,
   "metadata": {},
   "outputs": [
    {
     "name": "stdout",
     "output_type": "stream",
     "text": [
      "Enter a sentence: Yo mama\n",
      "Its not a pangram\n"
     ]
    }
   ],
   "source": [
    "import string as s\n",
    "\n",
    "st=input(\"Enter a sentence: \")\n",
    "\n",
    "\n",
    "if(set(st)>=set(s.ascii_lowercase)):\n",
    "    print(\"Its a pangram\")\n",
    "else:\n",
    "    print(\"Its not a pangram\")\n",
    "    \n"
   ]
  },
  {
   "cell_type": "raw",
   "metadata": {},
   "source": [
    "Theory:\n",
    "The strip() method returns a copy of the string by removing both the leading and\n",
    "the trailing characters (based on the string argument passed).\n",
    "\n",
    "The split() method breaks up a string at the specified separator and returns a list\n",
    "of strings.\n",
    "\n",
    "Some of the most popular mathematical functions are defined in the math\n",
    "module. These include trigonometric functions, representation functions,\n",
    "logarithmic functions, angle conversion functions, etc. In addition, two\n",
    "mathematical constants are also defined in this module.\n",
    "\n",
    "Python has *args which allow us to pass the variable number of non keyword\n",
    "arguments to function. In the function, we should use an asterisk * before the\n",
    "parameter name to pass variable length arguments.\n",
    "\n",
    "Question 3:\n",
    "\n",
    "Python menu driven program to develop simple calculator using\n",
    "variable length argument"
   ]
  },
  {
   "cell_type": "code",
   "execution_count": null,
   "metadata": {},
   "outputs": [
    {
     "name": "stdout",
     "output_type": "stream",
     "text": [
      " Enter your choice:\n",
      "     1)Sum\n",
      "     2)Difference\n",
      "     3)Product\n",
      "     4)Quotient\n",
      "     5)Remainder\n",
      "     6)Exit\n",
      "1\n",
      "Enter numbers to be added:1 2 3\n",
      "6\n",
      " Enter your choice:\n",
      "     1)Sum\n",
      "     2)Difference\n",
      "     3)Product\n",
      "     4)Quotient\n",
      "     5)Remainder\n",
      "     6)Exit\n",
      "3\n",
      "Enter numbers to be multiplied:1 2 3\n",
      "6\n",
      " Enter your choice:\n",
      "     1)Sum\n",
      "     2)Difference\n",
      "     3)Product\n",
      "     4)Quotient\n",
      "     5)Remainder\n",
      "     6)Exit\n",
      "3\n",
      "Enter numbers to be multiplied:1 2 3 4 5\n",
      "120\n",
      " Enter your choice:\n",
      "     1)Sum\n",
      "     2)Difference\n",
      "     3)Product\n",
      "     4)Quotient\n",
      "     5)Remainder\n",
      "     6)Exit\n",
      "6\n"
     ]
    }
   ],
   "source": [
    "import math\n",
    "\n",
    "\n",
    "def add(*args):\n",
    "    print(sum(args))\n",
    "    \n",
    "def substract(*args):\n",
    "    print(args[0]-args[1])\n",
    "\n",
    "def product(*args):\n",
    "    print(math.prod(args))\n",
    "    \n",
    "def quotient(*args):\n",
    "    print(args[0]/args[1])\n",
    "    \n",
    "def remainder(*args):\n",
    "    print(args[0]%args[1])\n",
    "\n",
    "\n",
    "while(True):\n",
    "    print(''' Enter your choice:\n",
    "     1)Sum\n",
    "     2)Difference\n",
    "     3)Product\n",
    "     4)Quotient\n",
    "     5)Remainder\n",
    "     6)Exit''')\n",
    "\n",
    "    choice=int(input())\n",
    "\n",
    "    if choice==1:\n",
    "        l=[int(x) for x in input(\"Enter numbers to be added:\").strip().split()]\n",
    "        add(*l)\n",
    "    elif choice==2:\n",
    "        l=[int(x) for x in input(\"Enter 2 numbers:\").strip().split()]\n",
    "        substract(*l)\n",
    "    elif choice==3:\n",
    "        l=[int(x) for x in input(\"Enter numbers to be multiplied:\").strip().split()]\n",
    "        product(*l)\n",
    "    elif choice==4:\n",
    "        l=[int(x) for x in input(\"Enter 2 nos.:\").strip().split()]\n",
    "        quotient(*l)\n",
    "    elif choice==5:\n",
    "        l=[int(x) for x in input(\"Enter 2 nos.:\").strip().split()]\n",
    "        remainder(*l)\n",
    "    else:\n",
    "        break\n",
    "    \n",
    "    \n"
   ]
  },
  {
   "cell_type": "raw",
   "metadata": {},
   "source": [
    "Theory:\n",
    "The term Recursion can be defined as the process of defining something in\n",
    "terms of itself. In simple words, it is a process in which a function calls itself\n",
    "directly or indirectly.\n",
    "\n",
    "Advantages of using recursion\n",
    "\n",
    "A complicated function can be split down into smaller sub-problems utilizing recursion.\n",
    "Sequence creation is simpler through recursion than utilizing any nested iteration.\n",
    "Recursive functions render the code look simple and effective."
   ]
  },
  {
   "cell_type": "code",
   "execution_count": 4,
   "metadata": {},
   "outputs": [
    {
     "name": "stdout",
     "output_type": "stream",
     "text": [
      "5\n"
     ]
    },
    {
     "data": {
      "text/plain": [
       "120"
      ]
     },
     "execution_count": 4,
     "metadata": {},
     "output_type": "execute_result"
    }
   ],
   "source": [
    "def factorial(n):\n",
    "    if n == 1:\n",
    "        return n\n",
    "    else:\n",
    "        return n*factorial(n-1)\n",
    "factorial(int(input()))"
   ]
  },
  {
   "cell_type": "raw",
   "metadata": {},
   "source": [
    "Theory:\n",
    "Decorators are very powerful and useful tool in Python since it allows\n",
    "programmers to modify the behavior of function or class. Decorators allow us to\n",
    "wrap another function in order to extend the behavior of the wrapped function,\n",
    "without permanently modifying it"
   ]
  },
  {
   "cell_type": "code",
   "execution_count": 11,
   "metadata": {},
   "outputs": [
    {
     "name": "stdout",
     "output_type": "stream",
     "text": [
      "10\n",
      "104\n",
      "10\n",
      "2000\n"
     ]
    }
   ],
   "source": [
    "def incr4_decorator(func):\n",
    "    def incr4(n):\n",
    "        return func(n)+4\n",
    "    return incr4\n",
    "\n",
    "def multiply2_decorator(func):\n",
    "    def multiply2(n):\n",
    "        return func(n)*2\n",
    "    return multiply2\n",
    "  \n",
    "@incr4_decorator\n",
    "def square(n):\n",
    "    return n**2\n",
    "\n",
    "@multiply2_decorator\n",
    "def cube(n):\n",
    "    return n**3\n",
    "\n",
    "print(square(int(input())))\n",
    "print(cube(int(input())))\n",
    "\n"
   ]
  },
  {
   "cell_type": "raw",
   "metadata": {},
   "source": [
    "Theory:\n",
    "Accessing Modules from Another Directory\n",
    "\n",
    "Modules may be useful for more than one programming project, and in that case\n",
    "it makes less sense to keep a module in a particular directory that’s tied to a\n",
    "specific project.\n",
    "\n",
    "If you want to use a Python module from a location other than the same\n",
    "directory where your main program is, you have a few options.\n",
    "\n",
    "Appending Paths\n",
    "\n",
    "One option is to invoke the path of the module via the programming files that use that module.\n",
    "\n",
    "This should be considered more of a temporary solution that can be done during the development process as it\n",
    "does not make the module available system-wide.\n",
    "\n",
    "To append the path of a module to another programming file, you'll start by importing the sys module alongside\n",
    "any other modules you wish to use in your main program file"
   ]
  },
  {
   "cell_type": "code",
   "execution_count": null,
   "metadata": {},
   "outputs": [],
   "source": [
    "\n",
    "while(True):\n",
    "    print(''' Enter your choice:\n",
    "     1)Summation\n",
    "     2)Product\n",
    "     3)Summation at even indices\n",
    "     4)add element\n",
    "     5)Exit''')\n",
    "\n",
    "    choice=int(input())\n",
    "\n",
    "    if choice==1:\n",
    "        l=[int(x) for x in input(\"Enter numbers to be added:\").strip().split()]\n",
    "        add(*l)\n",
    "    elif choice==2:\n",
    "        l=[int(x) for x in input(\"Enter 2 numbers:\").strip().split()]\n",
    "        substract(*l)\n",
    "    elif choice==3:\n",
    "        l=[int(x) for x in input(\"Enter numbers to be multiplied:\").strip().split()]\n",
    "        product(*l)\n",
    "    elif choice==4:\n",
    "        l=[int(x) for x in input(\"Enter 2 nos.:\").strip().split()]\n",
    "        quotient(*l)\n",
    "    elif choice==5:\n",
    "        l=[int(x) for x in input(\"Enter 2 nos.:\").strip().split()]\n",
    "        remainder(*l)\n",
    "    else:\n",
    "        break\n",
    "    \n",
    "    \n"
   ]
  }
 ],
 "metadata": {
  "kernelspec": {
   "display_name": "Python 3",
   "language": "python",
   "name": "python3"
  },
  "language_info": {
   "codemirror_mode": {
    "name": "ipython",
    "version": 3
   },
   "file_extension": ".py",
   "mimetype": "text/x-python",
   "name": "python",
   "nbconvert_exporter": "python",
   "pygments_lexer": "ipython3",
   "version": "3.8.3"
  }
 },
 "nbformat": 4,
 "nbformat_minor": 4
}
