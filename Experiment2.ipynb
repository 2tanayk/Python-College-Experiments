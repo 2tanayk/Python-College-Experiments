{
 "cells": [
  {
   "cell_type": "markdown",
   "metadata": {},
   "source": [
    "#### Theory:\n",
    "\n",
    "###### Creating an array:\n",
    "Array in Python can be created by importing array module.( import array as arr)\n",
    "Syntax:\n",
    "array(data_type, value_list) is used to create an array with data type and value list specified\n",
    "in its arguments.\n",
    "creating an array with integer type\n",
    "\n",
    "a = arr.array('i', [ 1,2,3 ]) \n",
    "\n",
    "###### Adding Elements to an array:\n",
    "Elements can be added to the Array by using built-in insert() function. Insert is used to insert\n",
    "one or more data elements into an array.\n",
    "\n",
    "Syntax:\n",
    "Insert(index,value)\n",
    "append() is also used to add the value mentioned in its arguments at the end of the array.\n",
    "\n",
    "Syntax:\n",
    "append(value)\n",
    "\n",
    "Reversing an Array\n",
    "Reversing an array is same as reversing a list using the reverse() function\n",
    "Syntax:\n",
    "Reverse(array_name)\n",
    "\n",
    "Getting the length in bytes of one array item\n",
    "Using the inbuilt itemsize keyword we get the length in bytes of one array item\n",
    "Syntax:\n",
    "Array_name.itemsize\n",
    "\n",
    "Removing an item from the array\n",
    "the pop() method is used to remove an element from the array.\n",
    "\n",
    "Syntax:\n",
    "Pop(index)\n",
    "the remove() method is used to remove an element from the array\n",
    "\n",
    "###### Converting the array to a string\n",
    "We can define a new string and concatenate it with the array using a loop\n",
    "Example:\n",
    "\n",
    "print(\"Converting the array to a string: \")\n",
    "str1 = \" \"\n",
    "\n",
    "for i in range(0,len(a)):\n",
    " str1 = str1 + str(a[i])\n",
    "print(str1)\n"
   ]
  },
  {
   "cell_type": "markdown",
   "metadata": {},
   "source": [
    "import array as arr\n",
    "\n",
    "#Read an array and display\n",
    "l=list(map(int,input().strip().split(' ')))\n",
    "a=arr.array('i',l)\n",
    "for i in range (0, len(a)): \n",
    "    print (a[i], end =\" \")\n",
    "print()\n",
    "\n",
    "#appending an item to end of an array\n",
    "a.append(100)\n",
    "print(a)\n",
    "\n",
    "#reversing order \n",
    "print(a[::-1])\n",
    "\n",
    "#Get the length in bytes of one array item\n",
    "print(a.itemsize)\n",
    "\n",
    "#To append items from another array\n",
    "b=arr.array('i',[200,300,700])\n",
    "\n",
    "b.extend(a)\n",
    "\n",
    "print(b)\n",
    "\n",
    "#Remove a specified item using the index from an array\n",
    "a.remove(1)\n",
    "print(a)\n",
    "#Insert a specified item at the specified position in the array\n",
    "a.insert(0,-1000)\n",
    "print(a)\n",
    "#Convert the array into a string\n",
    "\n",
    "str2 = \"\"\n",
    "for i in range(0,len(a)):\n",
    "    str2=str2+str(a[i])\n",
    "print(str2)"
   ]
  },
  {
   "cell_type": "code",
   "execution_count": null,
   "metadata": {},
   "outputs": [],
   "source": []
  },
  {
   "cell_type": "code",
   "execution_count": 62,
   "metadata": {},
   "outputs": [
    {
     "name": "stdout",
     "output_type": "stream",
     "text": [
      "The prime nos in the array 'arr' are: \n",
      "3  13  17  \n"
     ]
    }
   ],
   "source": [
    "from array import *\n",
    "\n",
    "def isPrime(n):\n",
    "    for i in range(2, int(n ** 0.5) + 1):\n",
    "        if n % i == 0:\n",
    "            return False\n",
    "    return True\n",
    "\n",
    "arr = array('i',[3,4,6,9,13,14,16,17])\n",
    "print(\"The prime nos in the array 'arr' are: \")\n",
    "for i in arr:\n",
    "    if isPrime(i):\n",
    "        print(\"%d \"% (i), end=' ')\n",
    "print()\n",
    "            \n",
    "            \n",
    "   \n",
    "        "
   ]
  },
  {
   "cell_type": "code",
   "execution_count": 64,
   "metadata": {},
   "outputs": [
    {
     "name": "stdout",
     "output_type": "stream",
     "text": [
      "Enter a string: abjsa abd aa33\n",
      "abjs@ @bd @@33\n"
     ]
    }
   ],
   "source": [
    "s = input(\"Enter a string: \")\n",
    "x = '@'\n",
    "res = s[0] + s[1:].replace(s[0],x)\n",
    "print(str(res)) "
   ]
  },
  {
   "cell_type": "code",
   "execution_count": 68,
   "metadata": {},
   "outputs": [
    {
     "name": "stdout",
     "output_type": "stream",
     "text": [
      "gedh rkfr ifgev abvb ioo\n",
      "['gedh', 'rkfr', 'ifgev', 'abvb', 'ioo']\n",
      "['abvb', 'gedh', 'ifgev', 'ioo', 'rkfr']\n"
     ]
    }
   ],
   "source": [
    "l=list(input().strip().split(\" \"))\n",
    "print(l)\n",
    "l.sort()\n",
    "print(l)"
   ]
  },
  {
   "cell_type": "code",
   "execution_count": 65,
   "metadata": {},
   "outputs": [
    {
     "name": "stdout",
     "output_type": "stream",
     "text": [
      "Enter a string: ertre\n",
      "The string is a pallindrome \n"
     ]
    }
   ],
   "source": [
    "def isPallindrome(s1):\n",
    "    if s1 == s1[::-1]:\n",
    "        return True\n",
    "    else:\n",
    "        return False\n",
    "s1 = input(\"Enter a string: \")\n",
    "if isPallindrome(s1):\n",
    "    print(\"The string is a pallindrome \")\n",
    "else:\n",
    "    print(\"The string is not a pallindrome \")\n"
   ]
  }
 ],
 "metadata": {
  "kernelspec": {
   "display_name": "Python 3",
   "language": "python",
   "name": "python3"
  },
  "language_info": {
   "codemirror_mode": {
    "name": "ipython",
    "version": 3
   },
   "file_extension": ".py",
   "mimetype": "text/x-python",
   "name": "python",
   "nbconvert_exporter": "python",
   "pygments_lexer": "ipython3",
   "version": "3.8.3"
  }
 },
 "nbformat": 4,
 "nbformat_minor": 4
}
