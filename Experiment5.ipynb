{
 "cells": [
  {
   "cell_type": "markdown",
   "metadata": {},
   "source": [
    "###### Aim: To study object oriented features i.e. Class, Objects, Inhertance, Polymorhism and Abstraction in Python\n",
    "\n",
    "###### Theory:\n",
    "Object-oriented programming (OOP) is a method of structuring a program by bundling related properties and behaviors into individual objects.\n",
    "<br>\n",
    "Put another way, object-oriented programming is an approach for modeling concrete, real-world things, like cars, as well as relations between things, like companies and employees, students and teachers, and so on. OOP models real-world entities as software objects that have some data associated with them and can perform certain functions.\n",
    "<br>\n",
    "The key takeaway is that objects are at the center of object-oriented programming in Python, not only representing the data, as in procedural programming, but in the overall structure of the program as well.\n",
    "<br>\n",
    "<br>\n",
    "Now let us have a look at and define some of its core components:\n",
    "<br>\n",
    "<b><u>Class</u>:</b><br>Primitive data structures—like numbers, strings, and lists—are designed to represent simple pieces of information, such as the cost of an apple, the name of a poem, or your favorite colors, respectively. What if you want to represent something more complex?\n",
    "<br>\n",
    "For example, let’s say you want to track employees in an organization. You need to store some basic information about each employee, such as their name, age, position, and the year they started working.\n",
    "A great way to make this type of code more manageable and more maintainable is to use classes.\n",
    "<br>\n",
    "A class is a blueprint for how something should be defined. It doesn’t actually contain any data.For eg. the Dog class specifies that a name and an age are necessary for defining a dog, but it doesn’t contain the name or age of any specific dog.\n",
    "<br>\n",
    "<br>\n",
    "<b><u>Object</u>:</b><br>While the class is the blueprint, an instance is an object that is built from a class and contains real data. An instance of the Dog class is not a blueprint anymore. It’s an actual dog with a name.\n",
    "<br>\n",
    "Put another way, a class is like a form or questionnaire. An instance is like a form that has been filled out with information. Just like many people can fill out the same form with their own unique information, many instances can be created from a single class.\n",
    "<br>\n",
    "<br>\n",
    "Now lets have a look at the code:"
   ]
  },
  {
   "cell_type": "code",
   "execution_count": 7,
   "metadata": {},
   "outputs": [
    {
     "name": "stdout",
     "output_type": "stream",
     "text": [
      "Harry 1\n",
      "Kerry 2\n",
      "Johnny 3\n",
      "Barry 4\n",
      "Larry 5\n",
      "5\n"
     ]
    }
   ],
   "source": [
    "class Employee:\n",
    "    empcount = 0\n",
    "\n",
    "    def __init__(self, id):\n",
    "        self.name = None\n",
    "        self.id = id\n",
    "        Employee.set_emp_count()\n",
    "\n",
    "    def set_name(self, name):\n",
    "        self.name = name\n",
    "\n",
    "    def get_name(self):\n",
    "        return self.name\n",
    "\n",
    "    def get_id(self):\n",
    "        return self.id\n",
    "\n",
    "    @classmethod\n",
    "    def set_emp_count(cls):\n",
    "        cls.empcount += 1\n",
    "\n",
    "\n",
    "empList = []\n",
    "\n",
    "e1 = Employee(1)\n",
    "e1.set_name(\"Harry\")\n",
    "\n",
    "e2 = Employee(2)\n",
    "e2.set_name(\"Kerry\")\n",
    "\n",
    "e3 = Employee(3)\n",
    "e3.set_name(\"Johnny\")\n",
    "\n",
    "e4 = Employee(4)\n",
    "e4.set_name(\"Barry\")\n",
    "\n",
    "e5 = Employee(5)\n",
    "e5.set_name(\"Larry\")\n",
    "\n",
    "empList.extend([e1, e2, e3, e4, e5])\n",
    "\n",
    "for e in empList:\n",
    "    print(e.get_name(), e.get_id())\n",
    "\n",
    "print(Employee.empcount)\n"
   ]
  },
  {
   "cell_type": "markdown",
   "metadata": {},
   "source": [
    "<b><u>Inheritance</u>:</b><br>Inheritance allows us to define a class that inherits all the methods and properties from another class.\n",
    "Parent class is the class being inherited from, also called base class.\n",
    "Child class is the class that inherits from another class, also called derived class.\n",
    "<br>\n",
    "Some points about inheritance:\n",
    "* It represents real-world relationships well. \n",
    "* It provides reusability of code. We don’t have to write the same code again and again. Also, it allows us to add more features to a class without modifying it. \n",
    "* It is transitive in nature, which means that if class B inherits from another class A, then all the subclasses of B would automatically inherit from class A.\n",
    "\n",
    "<br>\n",
    "<br>\n",
    "Python has a super() function that will make the child class inherit all the methods and properties from its parent.By using the super() function, you do not have to use the name of the parent element, it will automatically inherit the methods and properties from its parent.\n",
    "<br>\n",
    "<br>\n",
    "<i>note:</i> If you add a method in the child class with the same name as a function in the parent class, the inheritance of the parent method will be overridden.\n",
    "<br>\n",
    "<br>\n",
    "Types of Inheritance depends upon the number of child and parent classes involved. There are four types of inheritance in Python:<br>\n",
    "<b>Single Inheritance:</b> Single inheritance enables a derived class to inherit properties from a single parent class, thus enabling code reusability and the addition of new features to existing code.\n",
    "<br>\n",
    "<b>Multiple Inheritance:</b> When a class can be derived from more than one base class this type of inheritance is called multiple inheritance. In multiple inheritance, all the features of the base classes are inherited into the derived class.\n",
    "<br>\n",
    "<b>Multilevel Inheritance:</b> In multilevel inheritance, features of the base class and the derived class are further inherited into the new derived class. This is similar to a relationship representing a child and grandfather.\n",
    "<br>\n",
    "<b>Hierarchical Inheritance:</b> When more than one derived classes are created from a single base this type of inheritance is called hierarchical inheritance. In this program, we have a parent (base) class and two child (derived) classes\n",
    "<br>\n",
    "<br>\n",
    "Now lets have a look at the code:"
   ]
  },
  {
   "cell_type": "code",
   "execution_count": 3,
   "metadata": {},
   "outputs": [
    {
     "name": "stdout",
     "output_type": "stream",
     "text": [
      "TSEC\n",
      "abc bdr\n",
      "Harry\n",
      "111\n"
     ]
    }
   ],
   "source": [
    "class Employee:\n",
    "    def __init__(self, empId):\n",
    "        self.name = None\n",
    "        self.id = empId\n",
    "\n",
    "    def set_name(self, name):\n",
    "        self.name = name\n",
    "\n",
    "    def get_id(self):\n",
    "        return self.id\n",
    "\n",
    "    def get_name(self):\n",
    "        return self.name\n",
    "\n",
    "\n",
    "class Student:\n",
    "    def __init__(self, college):\n",
    "        self.college = college\n",
    "\n",
    "    def get_college(self):\n",
    "        return self.college\n",
    "\n",
    "\n",
    "class Intern(Employee, Student):\n",
    "    def __init__(self, empId, college, period):\n",
    "        Employee.__init__(self, empId)\n",
    "        Student.__init__(self, college)\n",
    "        self.details = None\n",
    "        self.period = period\n",
    "\n",
    "    def set_details(self, details):\n",
    "        self.details = details\n",
    "\n",
    "    def get_details(self):\n",
    "        return self.details\n",
    "\n",
    "\n",
    "intern = Intern(111, 'TSEC', 'CSE')\n",
    "intern.set_details(\"abc bdr\")\n",
    "intern.set_name('Harry')\n",
    "print(intern.get_college())\n",
    "print(intern.get_details())\n",
    "print(intern.get_name())\n",
    "print(intern.get_id())"
   ]
  },
  {
   "cell_type": "markdown",
   "metadata": {},
   "source": [
    "<b><u>Polymorphism</u>:</b><br> The word polymorphism means having many forms. In programming, polymorphism means same function name (but different signatures) being uses for different types.<br>In Python, Polymorphism lets us define methods in the child class that have the same name as the methods in the parent class. In inheritance, the child class inherits the methods from the parent class. However, it is possible to modify a method in a child class that it has inherited from the parent class. This is particularly useful in cases where the method inherited from the parent class doesn’t quite fit the child class. In such cases, we re-implement the method in the child class. This process of re-implementing a method in the child class is known as Method Overriding.\n",
    "<br>\n",
    "<b>Operator Overloading:</b><br>Python operators work for built-in classes. But the same operator behaves differently with different types. For example, the + operator will perform arithmetic addition on two numbers, merge two lists, or concatenate two strings.This feature in Python that allows the same operator to have different meaning according to the context is called operator overloading.\n",
    "<br>\n",
    "<br>\n",
    "Now lets have a look at the code:"
   ]
  },
  {
   "cell_type": "code",
   "execution_count": 4,
   "metadata": {},
   "outputs": [
    {
     "name": "stdout",
     "output_type": "stream",
     "text": [
      "Harsh has a better rank\n"
     ]
    }
   ],
   "source": [
    "class Student:\n",
    "    def __init__(self, name, cgpa):\n",
    "        self.name = name\n",
    "        self.cgpa = cgpa\n",
    "\n",
    "    def get_info(self):\n",
    "        print(self.name, self.cgpa)\n",
    "\n",
    "    def __gt__(self, other):\n",
    "        if self.cgpa > other.cgpa:\n",
    "            return True\n",
    "        else:\n",
    "            return False\n",
    "\n",
    "\n",
    "s1 = Student('Raj', 8)\n",
    "s2 = Student('Harsh', 10)\n",
    "\n",
    "if s1 > s2:\n",
    "    print('Raj has a better rank')\n",
    "else:\n",
    "    print('Harsh has a better rank')\n"
   ]
  },
  {
   "cell_type": "markdown",
   "metadata": {},
   "source": [
    "<b><u>Abstraction</u>:</b><br>Abstraction is used to hide the internal functionality of the function from the users. The users only interact with the basic implementation of the function, but inner working is hidden. User is familiar with that \"what function does\" but they don't know \"how it does.\"<br>\n",
    "In simple words, we all use the smartphone and very much familiar with its functions such as camera, voice-recorder, call-dialing, etc., but we don't know how these operations are happening in the background.<br> Let's take another example - When we use the TV remote to increase the volume. We don't know how pressing a key increases the volume of the TV. We only know to press the \"+\" button to increase the volume.\n",
    "That is exactly the abstraction that works in the object-oriented concept.\n",
    "<br>\n",
    "In Python, abstraction can be achieved by using abstract classes and interfaces.<br>\n",
    "A class that consists of one or more abstract method is called the abstract class. Abstract methods do not contain their implementation. Abstract class can be inherited by the subclass and abstract method gets its definition in the subclass. Abstraction classes are meant to be the blueprint of the other class. An abstract class can be useful when we are designing large functions. An abstract class is also helpful to provide the standard interface for different implementations of components. Python provides the abc module to use the abstraction in the Python program.\n",
    "<br>\n",
    "<br>\n",
    "Now lets have a look at the code:"
   ]
  },
  {
   "cell_type": "code",
   "execution_count": 5,
   "metadata": {},
   "outputs": [
    {
     "name": "stdout",
     "output_type": "stream",
     "text": [
      "hello IBM\n",
      "IBM printer has been disconnected\n",
      "hello HP\n",
      "HP printer has been disconnected\n"
     ]
    }
   ],
   "source": [
    "from abc import ABC, abstractmethod\n",
    "\n",
    "\n",
    "class Printer(ABC):\n",
    "    @abstractmethod\n",
    "    def printit(self, text):\n",
    "        pass\n",
    "\n",
    "    @abstractmethod\n",
    "    def disconnect(self):\n",
    "        pass\n",
    "\n",
    "\n",
    "class IBM(Printer):\n",
    "\n",
    "    def __init__(self):\n",
    "        self.text = None\n",
    "\n",
    "    def printit(self, text):\n",
    "        self.text = text\n",
    "        print(self.text)\n",
    "\n",
    "    def disconnect(self):\n",
    "        print('IBM printer has been disconnected')\n",
    "\n",
    "\n",
    "class HP(Printer):\n",
    "    def __init__(self):\n",
    "        self.text = None\n",
    "\n",
    "    def printit(self, text):\n",
    "        self.text = text\n",
    "        print(self.text)\n",
    "\n",
    "    def disconnect(self):\n",
    "        print('HP printer has been disconnected')\n",
    "\n",
    "\n",
    "p1 = IBM()\n",
    "p1.printit('hello IBM')\n",
    "p1.disconnect()\n",
    "\n",
    "p2 = HP()\n",
    "p2.printit('hello HP')\n",
    "p2.disconnect()\n"
   ]
  },
  {
   "cell_type": "code",
   "execution_count": null,
   "metadata": {},
   "outputs": [],
   "source": []
  }
 ],
 "metadata": {
  "kernelspec": {
   "display_name": "Python 3",
   "language": "python",
   "name": "python3"
  },
  "language_info": {
   "codemirror_mode": {
    "name": "ipython",
    "version": 3
   },
   "file_extension": ".py",
   "mimetype": "text/x-python",
   "name": "python",
   "nbconvert_exporter": "python",
   "pygments_lexer": "ipython3",
   "version": "3.8.3"
  }
 },
 "nbformat": 4,
 "nbformat_minor": 4
}
