{
 "cells": [
  {
   "cell_type": "markdown",
   "metadata": {},
   "source": [
    "### Program 1\n",
    "#### Theory\n",
    "In Python, users can define custom exceptions by creating a new class. This exception class has to be derived, either directly or indirectly, from the built-in Exception class. Most of the built-in exceptions are also derived from this class.<br>\n",
    "The **try** block lets you test a block of code for errors.<br>\n",
    "The **except** block lets you handle the error.<br>\n",
    "The **raise** keyword is used to raise an exception.<br>\n",
    "The **as** keyword is used to create an alias."
   ]
  },
  {
   "cell_type": "markdown",
   "metadata": {},
   "source": [
    "#### Question 1\n",
    "Python program <br>\n",
    "● To create class Student with rno, name, marks as instance variable and \n",
    "constructor to initialize these instance variables.<br>\n",
    "● Instantiate n instances of classes and save details in list.<br> \n",
    "● Create an user defined exception class Fail to raise an exception if marks is \n",
    "less than 40.<br>\n",
    "● Display details of students and also raise exceptions for marks less than 40.<br>"
   ]
  },
  {
   "cell_type": "code",
   "execution_count": 1,
   "metadata": {},
   "outputs": [
    {
     "name": "stdout",
     "output_type": "stream",
     "text": [
      "Xyz 12 100\n",
      "Tyu 45 80\n",
      "Xyz 12 39\n",
      "Student failed\n",
      "Tio 32 20\n",
      "Student failed\n"
     ]
    }
   ],
   "source": [
    "class Student:\n",
    "    def __init__(self, name, rno, marks):\n",
    "        self.name = name\n",
    "        self.rno = rno\n",
    "        self.marks = marks\n",
    "\n",
    "    def get_name(self):\n",
    "        return self.name\n",
    "\n",
    "    def get_rno(self):\n",
    "        return self.rno\n",
    "\n",
    "    def get_marks(self):\n",
    "        return self.marks\n",
    "\n",
    "\n",
    "class Fail(Exception):\n",
    "    def __init__(self):\n",
    "        super().__init__()\n",
    "        print('Student failed')\n",
    "\n",
    "\n",
    "def display(sList):\n",
    "    for s in sList:\n",
    "        try:\n",
    "            print(s.get_name(), s.get_rno(), s.get_marks())\n",
    "            if s.get_marks() < 40:\n",
    "                raise Fail()\n",
    "        except:\n",
    "            pass\n",
    "\n",
    "\n",
    "studentList = []\n",
    "\n",
    "s1 = Student(\"Xyz\", 12, 100)\n",
    "s2 = Student(\"Tyu\", 45, 80)\n",
    "s3 = Student(\"Xyz\", 12, 39)\n",
    "s4 = Student(\"Tio\", 32, 20)\n",
    "studentList.extend([s1, s2, s3, s4])\n",
    "\n",
    "display(studentList)\n"
   ]
  },
  {
   "cell_type": "markdown",
   "metadata": {},
   "source": [
    "### Program 2\n",
    "#### Theory\n",
    "The **open()** function opens a file, and returns it as a file object.<br>\n",
    "Syntax - open(file, mode)\n",
    "ex. open(\"a.txt\", \"x\") refers to creating a file named a.txt, it returns an error if the file already exists.<br>\n",
    "Python file method **close()** closes the opened file. A closed file cannot be read or written any more. Any operation, which requires that the file be opened will raise a ValueError after the file has been closed. Calling close() more than once is allowed."
   ]
  },
  {
   "cell_type": "markdown",
   "metadata": {},
   "source": [
    "#### Question 2\n",
    "Python program to <br>\n",
    "● create a file <br>\n",
    "● count no. of lines , words and characters in a file.<br>\n",
    "● write content of a file in a new file and read that new file"
   ]
  },
  {
   "cell_type": "code",
   "execution_count": 3,
   "metadata": {},
   "outputs": [
    {
     "name": "stdout",
     "output_type": "stream",
     "text": [
      "Reading from file...\n",
      " Lorem ipsum dolor sit amet, consectetur adipiscing elit. Quisque hendrerit diam nulla, quis laoreet neque feugiat in.\n",
      "Interdum et malesuada fames ac ante ipsum primis in faucibus. Quisque molestie aliquam ligula, vitae convallis lorem suscipit vel.\n",
      "Donec elementum tristique tortor ut hendrerit.Sed ultricies ipsum non tempus pharetra.\n",
      "Nam malesuada leo quis massa consequat congue.Nullam blandit tincidunt enim eu facilisis.Phasellus molestie risus et semper volutpat.\n",
      "Donec id felis vulputate, pretium orci tempor, imperdiet eros. Suspendisse pulvinar neque ut tortor commodo,\n",
      "ac sollicitudin neque condimentum. Nunc vitae leo urna.Nulla interdum, est at varius tempus, diam justo malesuada mi,\n",
      "et auctor tortor mauris id ante. Duis scelerisque, nulla eget pellentesque luctus, tellus tortor aliquet erat, \n",
      "id scelerisque nunc tortor porttitor ligula. Aenean quis elit rutrum, dictum tortor ut, pellentesque ex. \n",
      "Aliquam varius luctus urna at cursus. Curabitur nibh ex, bibendum nec cursus eget, bibendum at ex.\n",
      "Suspendisse auctor urna auctor massa accumsan laoreet. Vestibulum vitae rutrum magna.\n",
      "\n",
      "Words= 147 Lines= 10 Characters= 1099\n"
     ]
    }
   ],
   "source": [
    "f = open(\"newfile.txt\", \"w\")\n",
    "f.write(\"\"\"Lorem ipsum dolor sit amet, consectetur adipiscing elit. Quisque hendrerit diam nulla, quis laoreet neque feugiat in.\n",
    "Interdum et malesuada fames ac ante ipsum primis in faucibus. Quisque molestie aliquam ligula, vitae convallis lorem suscipit vel.\n",
    "Donec elementum tristique tortor ut hendrerit.Sed ultricies ipsum non tempus pharetra.\n",
    "Nam malesuada leo quis massa consequat congue.Nullam blandit tincidunt enim eu facilisis.Phasellus molestie risus et semper volutpat.\n",
    "Donec id felis vulputate, pretium orci tempor, imperdiet eros. Suspendisse pulvinar neque ut tortor commodo,\n",
    "ac sollicitudin neque condimentum. Nunc vitae leo urna.Nulla interdum, est at varius tempus, diam justo malesuada mi,\n",
    "et auctor tortor mauris id ante. Duis scelerisque, nulla eget pellentesque luctus, tellus tortor aliquet erat, \n",
    "id scelerisque nunc tortor porttitor ligula. Aenean quis elit rutrum, dictum tortor ut, pellentesque ex. \n",
    "Aliquam varius luctus urna at cursus. Curabitur nibh ex, bibendum nec cursus eget, bibendum at ex.\n",
    "Suspendisse auctor urna auctor massa accumsan laoreet. Vestibulum vitae rutrum magna.\"\"\")\n",
    "\n",
    "f.close()\n",
    "\n",
    "f = open(\"newfile.txt\", \"r\")\n",
    "text = f.read()\n",
    "f.close()\n",
    "words = 1\n",
    "lines = 1\n",
    "for t in text:\n",
    "    if t == \" \":\n",
    "        words += 1\n",
    "\n",
    "    if t == \"\\n\":\n",
    "        lines += 1\n",
    "\n",
    "print(\"Reading from file...\\n\", text)\n",
    "\n",
    "print(\"\\nWords=\", words, \"Lines=\", lines, \"Characters=\", len(text))\n"
   ]
  },
  {
   "cell_type": "markdown",
   "metadata": {},
   "source": [
    "### Program 3\n",
    "#### Theory\n",
    "The **append()** method in python adds a single item to the existing list. It doesn't return a new list of items but will modify the original list by adding the item to the end of the list. After executing the method append on the list the size of the list increases by one.<br>\n",
    "Python file method **read()** reads at most size bytes from the file. If the read hits EOF before obtaining size bytes, then it reads only available bytes.<br>\n",
    "The **writelines()** method writes the items of a list to the file.\n",
    "Where the texts will be inserted depends on the file mode and stream position."
   ]
  },
  {
   "cell_type": "markdown",
   "metadata": {},
   "source": [
    "#### Question 3\n",
    "Python program to<br> \n",
    "● Create a class Customer with id, name, mobile number as instance variable and constructor to initialize these instance variables.<br>\n",
    "● Instantiate n instances of classes<br>\n",
    "● Save details of all customer in a file and read back from that file."
   ]
  },
  {
   "cell_type": "code",
   "execution_count": 4,
   "metadata": {},
   "outputs": [
    {
     "name": "stdout",
     "output_type": "stream",
     "text": [
      "Enter a value :5\n",
      "Enter customer id:1\n",
      "Enter customer name:Tanay\n",
      "Enter customer mobileno:9870967899\n",
      "\n",
      "Enter customer id:2\n",
      "Enter customer name:Yan\n",
      "Enter customer mobileno:9870967898\n",
      "\n",
      "Enter customer id:3\n",
      "Enter customer name:Nat\n",
      "Enter customer mobileno:9876967897\n",
      "\n",
      "Enter customer id:4\n",
      "Enter customer name:Yep\n",
      "Enter customer mobileno:9870967432\n",
      "\n",
      "Enter customer id:5\n",
      "Enter customer name:Ura\n",
      "Enter customer mobileno:9870967852\n",
      "\n"
     ]
    }
   ],
   "source": [
    "class Customer:\n",
    "    def __init__(self, ID, name, mobileno):\n",
    "        self.ID = ID\n",
    "        self.name = name\n",
    "        self.mobileno = mobileno\n",
    "\n",
    "    def get_id(self):\n",
    "        return self.ID\n",
    "\n",
    "    def get_name(self):\n",
    "        return self.name\n",
    "\n",
    "    def get_mobileno(self):\n",
    "        return self.mobileno\n",
    "\n",
    "\n",
    "n = int(input(\"Enter a value :\"))\n",
    "\n",
    "customerList = []\n",
    "\n",
    "for i in range(0, n):\n",
    "    ID = int(input(\"Enter customer id:\"))\n",
    "    name = input(\"Enter customer name:\")\n",
    "    mobileno = int(input(\"Enter customer mobileno:\"))\n",
    "    customerList.append(Customer(ID, name, mobileno))\n",
    "    print()\n",
    "\n",
    "file = open(\"customer_details.txt\", \"w\")\n",
    "file.write(\"Customer Details:\\nID   Name    MobileNo.\\n\")\n",
    "file.close()\n",
    "\n",
    "for customer in customerList:\n",
    "    f = open(\"customer_details.txt\", \"a\")\n",
    "    f.write(f\"{customer.get_id()}   {customer.get_name()}   {customer.get_mobileno()}\\n\")\n",
    "    f.close()\n"
   ]
  },
  {
   "cell_type": "markdown",
   "metadata": {},
   "source": [
    "### Program 4\n",
    "#### Theory\n",
    "The OS module in Python provides functions for interacting with the operating system. OS comes under Python’s standard utility modules. This module provides a portable way of using operating system-dependent functionality.<br>\n",
    "**os.mkdir()** method in Python is used to create a directory named path with the specified numeric mode. This method raise FileExistsError if the directory to be created already exists.<br>\n",
    "**os.makedirs()** method in Python is used to create a directory recursively. That means while making leaf directory if any intermediate-level directory is missing, os.makedirs() method will create them all.<br>\n",
    "**os.rmdir()** method in Python is used to remove or delete a empty directory. OSError will be raised if the specified path is not an empty directory.<br>\n",
    "**os.removedirs()** method in Python is used to remove directories recursively. If the leaf directory in the specified path is successfully removed, then os.removedirs() tries to successively remove every parent directory mentioned in path until an error is raised."
   ]
  },
  {
   "cell_type": "markdown",
   "metadata": {},
   "source": [
    "#### Question 4\n",
    "Python program to<br>\n",
    "● create directories using mkdir( ) and makedirs ( )<br>\n",
    "● remove directories using rmdir( ) and removedirs( )<br>\n",
    "● change current directory"
   ]
  },
  {
   "cell_type": "code",
   "execution_count": 5,
   "metadata": {},
   "outputs": [],
   "source": [
    "import os\n",
    "\n",
    "os.mkdir(\"dir1\")\n",
    "os.mkdir(\"dir2\")\n",
    "os.mkdir(\"dir3\")\n",
    "\n",
    "os.makedirs(\"ndir1/n1/n2\")\n",
    "os.makedirs(\"ndir2/n1/n2\")\n",
    "\n",
    "os.rmdir(\"dir1\")\n",
    "os.removedirs(\"ndir2/n1/n2\")\n"
   ]
  },
  {
   "cell_type": "code",
   "execution_count": null,
   "metadata": {},
   "outputs": [],
   "source": []
  }
 ],
 "metadata": {
  "kernelspec": {
   "display_name": "Python 3",
   "language": "python",
   "name": "python3"
  },
  "language_info": {
   "codemirror_mode": {
    "name": "ipython",
    "version": 3
   },
   "file_extension": ".py",
   "mimetype": "text/x-python",
   "name": "python",
   "nbconvert_exporter": "python",
   "pygments_lexer": "ipython3",
   "version": "3.8.3"
  }
 },
 "nbformat": 4,
 "nbformat_minor": 4
}
